{
 "cells": [
  {
   "cell_type": "code",
   "execution_count": 1,
   "metadata": {},
   "outputs": [],
   "source": [
    "\n",
    "from sklearn.preprocessing import LabelEncoder\n",
    "import pickle\n",
    "\n",
    "from flask import Flask,request\n",
    "import numpy as np\n",
    "from transformation_functions import *"
   ]
  },
  {
   "cell_type": "markdown",
   "metadata": {},
   "source": [
    "##### Now let's import our winning model"
   ]
  },
  {
   "cell_type": "code",
   "execution_count": 2,
   "metadata": {},
   "outputs": [
    {
     "data": {
      "text/html": [
       "<style>#sk-container-id-1 {color: black;}#sk-container-id-1 pre{padding: 0;}#sk-container-id-1 div.sk-toggleable {background-color: white;}#sk-container-id-1 label.sk-toggleable__label {cursor: pointer;display: block;width: 100%;margin-bottom: 0;padding: 0.3em;box-sizing: border-box;text-align: center;}#sk-container-id-1 label.sk-toggleable__label-arrow:before {content: \"▸\";float: left;margin-right: 0.25em;color: #696969;}#sk-container-id-1 label.sk-toggleable__label-arrow:hover:before {color: black;}#sk-container-id-1 div.sk-estimator:hover label.sk-toggleable__label-arrow:before {color: black;}#sk-container-id-1 div.sk-toggleable__content {max-height: 0;max-width: 0;overflow: hidden;text-align: left;background-color: #f0f8ff;}#sk-container-id-1 div.sk-toggleable__content pre {margin: 0.2em;color: black;border-radius: 0.25em;background-color: #f0f8ff;}#sk-container-id-1 input.sk-toggleable__control:checked~div.sk-toggleable__content {max-height: 200px;max-width: 100%;overflow: auto;}#sk-container-id-1 input.sk-toggleable__control:checked~label.sk-toggleable__label-arrow:before {content: \"▾\";}#sk-container-id-1 div.sk-estimator input.sk-toggleable__control:checked~label.sk-toggleable__label {background-color: #d4ebff;}#sk-container-id-1 div.sk-label input.sk-toggleable__control:checked~label.sk-toggleable__label {background-color: #d4ebff;}#sk-container-id-1 input.sk-hidden--visually {border: 0;clip: rect(1px 1px 1px 1px);clip: rect(1px, 1px, 1px, 1px);height: 1px;margin: -1px;overflow: hidden;padding: 0;position: absolute;width: 1px;}#sk-container-id-1 div.sk-estimator {font-family: monospace;background-color: #f0f8ff;border: 1px dotted black;border-radius: 0.25em;box-sizing: border-box;margin-bottom: 0.5em;}#sk-container-id-1 div.sk-estimator:hover {background-color: #d4ebff;}#sk-container-id-1 div.sk-parallel-item::after {content: \"\";width: 100%;border-bottom: 1px solid gray;flex-grow: 1;}#sk-container-id-1 div.sk-label:hover label.sk-toggleable__label {background-color: #d4ebff;}#sk-container-id-1 div.sk-serial::before {content: \"\";position: absolute;border-left: 1px solid gray;box-sizing: border-box;top: 0;bottom: 0;left: 50%;z-index: 0;}#sk-container-id-1 div.sk-serial {display: flex;flex-direction: column;align-items: center;background-color: white;padding-right: 0.2em;padding-left: 0.2em;position: relative;}#sk-container-id-1 div.sk-item {position: relative;z-index: 1;}#sk-container-id-1 div.sk-parallel {display: flex;align-items: stretch;justify-content: center;background-color: white;position: relative;}#sk-container-id-1 div.sk-item::before, #sk-container-id-1 div.sk-parallel-item::before {content: \"\";position: absolute;border-left: 1px solid gray;box-sizing: border-box;top: 0;bottom: 0;left: 50%;z-index: -1;}#sk-container-id-1 div.sk-parallel-item {display: flex;flex-direction: column;z-index: 1;position: relative;background-color: white;}#sk-container-id-1 div.sk-parallel-item:first-child::after {align-self: flex-end;width: 50%;}#sk-container-id-1 div.sk-parallel-item:last-child::after {align-self: flex-start;width: 50%;}#sk-container-id-1 div.sk-parallel-item:only-child::after {width: 0;}#sk-container-id-1 div.sk-dashed-wrapped {border: 1px dashed gray;margin: 0 0.4em 0.5em 0.4em;box-sizing: border-box;padding-bottom: 0.4em;background-color: white;}#sk-container-id-1 div.sk-label label {font-family: monospace;font-weight: bold;display: inline-block;line-height: 1.2em;}#sk-container-id-1 div.sk-label-container {text-align: center;}#sk-container-id-1 div.sk-container {/* jupyter's `normalize.less` sets `[hidden] { display: none; }` but bootstrap.min.css set `[hidden] { display: none !important; }` so we also need the `!important` here to be able to override the default hidden behavior on the sphinx rendered scikit-learn.org. See: https://github.com/scikit-learn/scikit-learn/issues/21755 */display: inline-block !important;position: relative;}#sk-container-id-1 div.sk-text-repr-fallback {display: none;}</style><div id=\"sk-container-id-1\" class=\"sk-top-container\"><div class=\"sk-text-repr-fallback\"><pre>KNeighborsRegressor()</pre><b>In a Jupyter environment, please rerun this cell to show the HTML representation or trust the notebook. <br />On GitHub, the HTML representation is unable to render, please try loading this page with nbviewer.org.</b></div><div class=\"sk-container\" hidden><div class=\"sk-item\"><div class=\"sk-estimator sk-toggleable\"><input class=\"sk-toggleable__control sk-hidden--visually\" id=\"sk-estimator-id-1\" type=\"checkbox\" checked><label for=\"sk-estimator-id-1\" class=\"sk-toggleable__label sk-toggleable__label-arrow\">KNeighborsRegressor</label><div class=\"sk-toggleable__content\"><pre>KNeighborsRegressor()</pre></div></div></div></div></div>"
      ],
      "text/plain": [
       "KNeighborsRegressor()"
      ]
     },
     "execution_count": 2,
     "metadata": {},
     "output_type": "execute_result"
    }
   ],
   "source": [
    "kNN_pickle_file = \"kNN_regression_model.pkl\"  \n",
    "with open(kNN_pickle_file, 'rb') as file:  \n",
    "    kNN_Model = pickle.load(file)\n",
    "kNN_Model"
   ]
  },
  {
   "cell_type": "markdown",
   "metadata": {},
   "source": [
    "#### Now we want to predict incoming data, the data would come as a dictionary and we want to make the same transformations as we did to the data we used to train the model with, so let's do it "
   ]
  },
  {
   "cell_type": "code",
   "execution_count": 3,
   "metadata": {},
   "outputs": [],
   "source": [
    "def transform_to_df_from_dict(dict):\n",
    "     \n",
    "    dict = {k: str(v).strip() for k, v in dict.items()}\n",
    "\n",
    "    dict[\"kilometers_driven\"] = convert_car_meter(dict[\"kilometers_driven\"])\n",
    "\n",
    "    dict[\"seats\"] = extract_num_seats(dict[\"seats\"])\n",
    "\n",
    "    dict[\"previous_owners\"] = convert_previous_owners_to_num(dict[\"previous_owners\"])\n",
    "\n",
    "    df = pd.DataFrame([dict])\n",
    "    \n",
    "    brand_le = LabelEncoder()\n",
    "    brand_labels = brand_le.fit_transform(df['brand'])\n",
    "    df = one_hot_enconde_df(df,\"brand\",list(brand_le.classes_))\n",
    "\n",
    "    model_le = LabelEncoder()\n",
    "    model_labels = model_le.fit_transform(df['model'])\n",
    "    model_onehot_feature_labels = ['Model_'+str(label)\n",
    "                           for label in model_le.classes_]\n",
    "    df = one_hot_enconde_df(df,\"model\",model_onehot_feature_labels)\n",
    "\n",
    "    fuel_type_le = LabelEncoder()\n",
    "    fuel_type_labels = fuel_type_le.fit_transform(df['fuel_type'])\n",
    "    df = one_hot_enconde_df(df,\"fuel_type\",list(fuel_type_le.classes_))\n",
    "\n",
    "    vehicle_history_le = LabelEncoder()\n",
    "    vehicle_history_labels = vehicle_history_le.fit_transform(df['vehicle_history'])\n",
    "    df = one_hot_enconde_df(df,\"vehicle_history\",list(vehicle_history_le.classes_))\n",
    "\n",
    "    transmission_type_le = LabelEncoder()\n",
    "    transmission_type_labels = transmission_type_le.fit_transform(df['transmission_type'])\n",
    "    df = one_hot_enconde_df(df,\"transmission_type\",list(transmission_type_le.classes_))\n",
    "    \n",
    "\n",
    "    df[\"licence\"] = df[\"licence\"].str.strip()\n",
    "    df[\"licence\"] = df[\"licence\"].map(licence_map)\n",
    "\n",
    "\n",
    "    df[\"windows_type\"] = df[\"windows_type\"].str.strip()\n",
    "    df[\"windows_type\"] = df[\"windows_type\"].map(windows_type_map)\n",
    "\n",
    "    df[\"payment_method\"] = df[\"payment_method\"].str.strip()\n",
    "    df[\"payment_method\"] = df[\"payment_method\"].map(payment_method_map)\n",
    "\n",
    "    df = df.rename(columns={\n",
    "    \"licence\":\"palestinian_licence\",\n",
    "    \"windows_type\":\"electric_windows\",\n",
    "    \"payment_method\":\"installment_payment_method\"\n",
    "    })\n",
    "\n",
    "    df[\"kilometers_driven_boxcox\"] = convert_kilometers_driven_boxcox(df[\"kilometers_driven\"])\n",
    "\n",
    "    df[\"seats_labels\"] = bin_seats(df[\"seats\"])\n",
    "\n",
    "    df[\"previous_owners_labels\"] = bin_previous_owners(df[\"previous_owners\"])\n",
    "\n",
    "\n",
    "    resulted_df = pd.DataFrame(data=[np.zeros(len(features_columns_names))],columns=features_columns_names)\n",
    "    \n",
    "    resulted_df[df.columns] = df[df.columns].iloc[:1]\n",
    "\n",
    "    resulted_df[\"كهرباء\"] = resulted_df[\"كهرباء\"]*2.5\n",
    "    resulted_df[\"هايبرد\"] = resulted_df[\"هايبرد\"]*1.5\n",
    "\n",
    "    return resulted_df"
   ]
  },
  {
   "cell_type": "code",
   "execution_count": 4,
   "metadata": {},
   "outputs": [],
   "source": [
    "def predict_price(df):\n",
    "    return kNN_Model.predict(df)[0]"
   ]
  },
  {
   "cell_type": "markdown",
   "metadata": {},
   "source": [
    "#### Now we want to create a web server to provide our microservice through"
   ]
  },
  {
   "cell_type": "code",
   "execution_count": 5,
   "metadata": {},
   "outputs": [
    {
     "name": "stdout",
     "output_type": "stream",
     "text": [
      " * Serving Flask app '__main__'\n",
      " * Debug mode: on\n"
     ]
    },
    {
     "name": "stderr",
     "output_type": "stream",
     "text": [
      "WARNING: This is a development server. Do not use it in a production deployment. Use a production WSGI server instead.\n",
      " * Running on http://127.0.0.1:5000\n",
      "Press CTRL+C to quit\n",
      "c:\\Users\\Mohammad\\AppData\\Local\\Programs\\Python\\Python312\\Lib\\site-packages\\sklearn\\base.py:458: UserWarning: X has feature names, but KNeighborsRegressor was fitted without feature names\n",
      "  warnings.warn(\n",
      "127.0.0.1 - - [09/Dec/2023 19:18:00] \"POST / HTTP/1.1\" 200 -\n",
      "c:\\Users\\Mohammad\\AppData\\Local\\Programs\\Python\\Python312\\Lib\\site-packages\\sklearn\\base.py:458: UserWarning: X has feature names, but KNeighborsRegressor was fitted without feature names\n",
      "  warnings.warn(\n",
      "127.0.0.1 - - [09/Dec/2023 19:18:38] \"POST / HTTP/1.1\" 200 -\n",
      "c:\\Users\\Mohammad\\AppData\\Local\\Programs\\Python\\Python312\\Lib\\site-packages\\sklearn\\base.py:458: UserWarning: X has feature names, but KNeighborsRegressor was fitted without feature names\n",
      "  warnings.warn(\n",
      "127.0.0.1 - - [09/Dec/2023 19:18:39] \"POST / HTTP/1.1\" 200 -\n",
      "c:\\Users\\Mohammad\\AppData\\Local\\Programs\\Python\\Python312\\Lib\\site-packages\\sklearn\\base.py:458: UserWarning: X has feature names, but KNeighborsRegressor was fitted without feature names\n",
      "  warnings.warn(\n",
      "127.0.0.1 - - [09/Dec/2023 19:18:39] \"POST / HTTP/1.1\" 200 -\n",
      "c:\\Users\\Mohammad\\AppData\\Local\\Programs\\Python\\Python312\\Lib\\site-packages\\sklearn\\base.py:458: UserWarning: X has feature names, but KNeighborsRegressor was fitted without feature names\n",
      "  warnings.warn(\n",
      "127.0.0.1 - - [09/Dec/2023 19:18:39] \"POST / HTTP/1.1\" 200 -\n",
      "c:\\Users\\Mohammad\\AppData\\Local\\Programs\\Python\\Python312\\Lib\\site-packages\\sklearn\\base.py:458: UserWarning: X has feature names, but KNeighborsRegressor was fitted without feature names\n",
      "  warnings.warn(\n",
      "127.0.0.1 - - [09/Dec/2023 19:18:39] \"POST / HTTP/1.1\" 200 -\n",
      "c:\\Users\\Mohammad\\AppData\\Local\\Programs\\Python\\Python312\\Lib\\site-packages\\sklearn\\base.py:458: UserWarning: X has feature names, but KNeighborsRegressor was fitted without feature names\n",
      "  warnings.warn(\n",
      "127.0.0.1 - - [09/Dec/2023 19:18:39] \"POST / HTTP/1.1\" 200 -\n",
      "c:\\Users\\Mohammad\\AppData\\Local\\Programs\\Python\\Python312\\Lib\\site-packages\\sklearn\\base.py:458: UserWarning: X has feature names, but KNeighborsRegressor was fitted without feature names\n",
      "  warnings.warn(\n",
      "127.0.0.1 - - [09/Dec/2023 19:18:40] \"POST / HTTP/1.1\" 200 -\n",
      "c:\\Users\\Mohammad\\AppData\\Local\\Programs\\Python\\Python312\\Lib\\site-packages\\sklearn\\base.py:458: UserWarning: X has feature names, but KNeighborsRegressor was fitted without feature names\n",
      "  warnings.warn(\n",
      "127.0.0.1 - - [09/Dec/2023 19:18:40] \"POST / HTTP/1.1\" 200 -\n",
      "c:\\Users\\Mohammad\\AppData\\Local\\Programs\\Python\\Python312\\Lib\\site-packages\\sklearn\\base.py:458: UserWarning: X has feature names, but KNeighborsRegressor was fitted without feature names\n",
      "  warnings.warn(\n",
      "127.0.0.1 - - [09/Dec/2023 19:18:40] \"POST / HTTP/1.1\" 200 -\n",
      "c:\\Users\\Mohammad\\AppData\\Local\\Programs\\Python\\Python312\\Lib\\site-packages\\sklearn\\base.py:458: UserWarning: X has feature names, but KNeighborsRegressor was fitted without feature names\n",
      "  warnings.warn(\n",
      "127.0.0.1 - - [09/Dec/2023 19:18:40] \"POST / HTTP/1.1\" 200 -\n",
      "c:\\Users\\Mohammad\\AppData\\Local\\Programs\\Python\\Python312\\Lib\\site-packages\\sklearn\\base.py:458: UserWarning: X has feature names, but KNeighborsRegressor was fitted without feature names\n",
      "  warnings.warn(\n",
      "127.0.0.1 - - [09/Dec/2023 19:18:40] \"POST / HTTP/1.1\" 200 -\n",
      "c:\\Users\\Mohammad\\AppData\\Local\\Programs\\Python\\Python312\\Lib\\site-packages\\sklearn\\base.py:458: UserWarning: X has feature names, but KNeighborsRegressor was fitted without feature names\n",
      "  warnings.warn(\n",
      "127.0.0.1 - - [09/Dec/2023 19:18:40] \"POST / HTTP/1.1\" 200 -\n",
      "c:\\Users\\Mohammad\\AppData\\Local\\Programs\\Python\\Python312\\Lib\\site-packages\\sklearn\\base.py:458: UserWarning: X has feature names, but KNeighborsRegressor was fitted without feature names\n",
      "  warnings.warn(\n",
      "127.0.0.1 - - [09/Dec/2023 19:18:40] \"POST / HTTP/1.1\" 200 -\n",
      "c:\\Users\\Mohammad\\AppData\\Local\\Programs\\Python\\Python312\\Lib\\site-packages\\sklearn\\base.py:458: UserWarning: X has feature names, but KNeighborsRegressor was fitted without feature names\n",
      "  warnings.warn(\n",
      "127.0.0.1 - - [09/Dec/2023 19:22:45] \"POST / HTTP/1.1\" 200 -\n",
      "c:\\Users\\Mohammad\\AppData\\Local\\Programs\\Python\\Python312\\Lib\\site-packages\\sklearn\\base.py:458: UserWarning: X has feature names, but KNeighborsRegressor was fitted without feature names\n",
      "  warnings.warn(\n",
      "127.0.0.1 - - [09/Dec/2023 19:22:46] \"POST / HTTP/1.1\" 200 -\n",
      "c:\\Users\\Mohammad\\AppData\\Local\\Programs\\Python\\Python312\\Lib\\site-packages\\sklearn\\base.py:458: UserWarning: X has feature names, but KNeighborsRegressor was fitted without feature names\n",
      "  warnings.warn(\n",
      "127.0.0.1 - - [09/Dec/2023 19:22:46] \"POST / HTTP/1.1\" 200 -\n",
      "c:\\Users\\Mohammad\\AppData\\Local\\Programs\\Python\\Python312\\Lib\\site-packages\\sklearn\\base.py:458: UserWarning: X has feature names, but KNeighborsRegressor was fitted without feature names\n",
      "  warnings.warn(\n",
      "127.0.0.1 - - [09/Dec/2023 19:22:46] \"POST / HTTP/1.1\" 200 -\n",
      "c:\\Users\\Mohammad\\AppData\\Local\\Programs\\Python\\Python312\\Lib\\site-packages\\sklearn\\base.py:458: UserWarning: X has feature names, but KNeighborsRegressor was fitted without feature names\n",
      "  warnings.warn(\n",
      "127.0.0.1 - - [09/Dec/2023 19:22:46] \"POST / HTTP/1.1\" 200 -\n",
      "c:\\Users\\Mohammad\\AppData\\Local\\Programs\\Python\\Python312\\Lib\\site-packages\\sklearn\\base.py:458: UserWarning: X has feature names, but KNeighborsRegressor was fitted without feature names\n",
      "  warnings.warn(\n",
      "127.0.0.1 - - [09/Dec/2023 19:22:46] \"POST / HTTP/1.1\" 200 -\n",
      "c:\\Users\\Mohammad\\AppData\\Local\\Programs\\Python\\Python312\\Lib\\site-packages\\sklearn\\base.py:458: UserWarning: X has feature names, but KNeighborsRegressor was fitted without feature names\n",
      "  warnings.warn(\n",
      "127.0.0.1 - - [09/Dec/2023 19:22:47] \"POST / HTTP/1.1\" 200 -\n"
     ]
    }
   ],
   "source": [
    "app = Flask(__name__)\n",
    "\n",
    "@app.route(\"/\",methods=[\"POST\"])\n",
    "def hello():\n",
    "    df = transform_to_df_from_dict(request.get_json())\n",
    "    df = df.drop(columns=[\"brand\",\"model\",\"fuel_type\",\"transmission_type\",\"vehicle_history\",\"previous_owners_ranges\",\"previous_owners\",\"kilometers_driven\",\"seats\",\"seats_ranges\",\"licence\",\"windows_type\",\"payment_method\"]).reset_index(drop=True)\n",
    "    df = df[features_final_order]\n",
    "    return str(round(predict_price(df)))\n",
    "\n",
    "\n",
    "\n",
    "if __name__ == '__main__':\n",
    "    app.run(debug=True, use_reloader=False)"
   ]
  }
 ],
 "metadata": {
  "kernelspec": {
   "display_name": "Python 3",
   "language": "python",
   "name": "python3"
  },
  "language_info": {
   "codemirror_mode": {
    "name": "ipython",
    "version": 3
   },
   "file_extension": ".py",
   "mimetype": "text/x-python",
   "name": "python",
   "nbconvert_exporter": "python",
   "pygments_lexer": "ipython3",
   "version": "3.12.0"
  }
 },
 "nbformat": 4,
 "nbformat_minor": 2
}
