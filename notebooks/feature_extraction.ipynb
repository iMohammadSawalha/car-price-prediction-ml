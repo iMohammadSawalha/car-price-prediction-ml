{
 "cells": [
  {
   "cell_type": "markdown",
   "metadata": {},
   "source": [
    "##### Importing libraries"
   ]
  },
  {
   "cell_type": "code",
   "execution_count": 1,
   "metadata": {},
   "outputs": [],
   "source": [
    "from lxml import html\n",
    "import os\n",
    "import re"
   ]
  },
  {
   "cell_type": "markdown",
   "metadata": {},
   "source": [
    "##### Specifing the folder that contains the pages and extracting thier paths"
   ]
  },
  {
   "cell_type": "code",
   "execution_count": 2,
   "metadata": {},
   "outputs": [],
   "source": [
    "folder_path = \"../data\"\n",
    "paths = os.listdir(folder_path)"
   ]
  },
  {
   "cell_type": "markdown",
   "metadata": {},
   "source": [
    "##### Preparing for the data extraction and creating a csv header based on the pages"
   ]
  },
  {
   "cell_type": "code",
   "execution_count": 3,
   "metadata": {},
   "outputs": [],
   "source": [
    "headers = [\"سعر\",\"شركة\",\"موديل\",\"سنة\",\"لون السيارة\",\"نوع الوقود\",\"أصل السيارة\",\"رخصة السيارة\",\"نوع الجير\",\"الزجاج\",\"قوة الماتور\",\"عداد السيارة\",\"عدد الركاب\",\"وسيلة الدفع\",\"معروضة\",\"أصحاب سابقون\",\"إضافات\"]\n",
    "result = []"
   ]
  },
  {
   "cell_type": "markdown",
   "metadata": {},
   "source": [
    "##### This function would help us in the next proccess for converting an array to one string each item seperated by '|'"
   ]
  },
  {
   "cell_type": "code",
   "execution_count": 4,
   "metadata": {},
   "outputs": [],
   "source": [
    "def listToString(s):\n",
    "    str1 = \" \"\n",
    "    return (str1.join(s))"
   ]
  },
  {
   "cell_type": "markdown",
   "metadata": {},
   "source": [
    "#### A loop that goes over every page and extract the data that would help us\n",
    "##### It opens each file and reads its html structure and finds the attributes that we assumed would hold the data which is helpful for us, and then organizing the data in a dict and giving a NULL value as a defualt if such key is not found in the html, and then creates a string each field seperated by a comma, to prepare for csv writing"
   ]
  },
  {
   "cell_type": "code",
   "execution_count": 5,
   "metadata": {},
   "outputs": [
    {
     "data": {
      "text/plain": [
       "['سعر',\n",
       " 'شركة',\n",
       " 'موديل',\n",
       " 'سنة',\n",
       " 'لون السيارة',\n",
       " 'نوع الوقود',\n",
       " 'أصل السيارة',\n",
       " 'رخصة السيارة',\n",
       " 'نوع الجير',\n",
       " 'الزجاج',\n",
       " 'قوة الماتور',\n",
       " 'عداد السيارة',\n",
       " 'عدد الركاب',\n",
       " 'الدفع',\n",
       " 'وسيلة الدفع',\n",
       " 'معروضة',\n",
       " 'أصحاب سابقون',\n",
       " 'إضافات',\n",
       " 'سعر',\n",
       " 'شركة',\n",
       " 'موديل',\n",
       " 'سنة',\n",
       " 'لون السيارة',\n",
       " 'نوع الوقود',\n",
       " 'أصل السيارة',\n",
       " 'رخصة السيارة',\n",
       " 'نوع الجير',\n",
       " 'الزجاج',\n",
       " 'قوة الماتور',\n",
       " 'عداد السيارة',\n",
       " 'عدد الركاب',\n",
       " 'الدفع',\n",
       " 'وسيلة الدفع',\n",
       " 'معروضة',\n",
       " 'أصحاب سابقون',\n",
       " 'إضافات',\n",
       " 'سعر',\n",
       " 'شركة',\n",
       " 'موديل',\n",
       " 'سنة',\n",
       " 'لون السيارة',\n",
       " 'نوع الوقود',\n",
       " 'أصل السيارة',\n",
       " 'رخصة السيارة',\n",
       " 'نوع الجير',\n",
       " 'الزجاج',\n",
       " 'قوة الماتور',\n",
       " 'عداد السيارة',\n",
       " 'عدد الركاب',\n",
       " 'الدفع',\n",
       " 'وسيلة الدفع',\n",
       " 'معروضة',\n",
       " 'أصحاب سابقون',\n",
       " 'إضافات',\n",
       " 'سعر',\n",
       " 'شركة',\n",
       " 'موديل',\n",
       " 'سنة',\n",
       " 'لون السيارة',\n",
       " 'نوع الوقود',\n",
       " 'أصل السيارة',\n",
       " 'رخصة السيارة',\n",
       " 'نوع الجير',\n",
       " 'الزجاج',\n",
       " 'قوة الماتور',\n",
       " 'عداد السيارة',\n",
       " 'عدد الركاب',\n",
       " 'الدفع',\n",
       " 'وسيلة الدفع',\n",
       " 'معروضة',\n",
       " 'أصحاب سابقون',\n",
       " 'إضافات',\n",
       " 'سعر',\n",
       " 'شركة',\n",
       " 'موديل',\n",
       " 'سنة',\n",
       " 'لون السيارة',\n",
       " 'نوع الوقود',\n",
       " 'أصل السيارة',\n",
       " 'رخصة السيارة',\n",
       " 'نوع الجير',\n",
       " 'الزجاج',\n",
       " 'قوة الماتور',\n",
       " 'عداد السيارة',\n",
       " 'عدد الركاب',\n",
       " 'الدفع',\n",
       " 'وسيلة الدفع',\n",
       " 'معروضة',\n",
       " 'أصحاب سابقون',\n",
       " 'إضافات',\n",
       " 'سعر',\n",
       " 'شركة',\n",
       " 'موديل',\n",
       " 'سنة',\n",
       " 'لون السيارة',\n",
       " 'نوع الوقود',\n",
       " 'أصل السيارة',\n",
       " 'رخصة السيارة',\n",
       " 'نوع الجير',\n",
       " 'الزجاج',\n",
       " 'قوة الماتور',\n",
       " 'عداد السيارة',\n",
       " 'عدد الركاب',\n",
       " 'الدفع',\n",
       " 'وسيلة الدفع',\n",
       " 'معروضة',\n",
       " 'أصحاب سابقون',\n",
       " 'إضافات']"
      ]
     },
     "execution_count": 5,
     "metadata": {},
     "output_type": "execute_result"
    }
   ],
   "source": [
    "for path in paths:\n",
    "    file = open(folder_path + \"/\" + path, 'r',encoding=\"utf-8\")\n",
    "    data = file.read()\n",
    "    tree = html.fromstring(data)\n",
    "    brand = tree.xpath('//table[@class=\"driving-table\"]//h3/text()')\n",
    "    year_price = tree.xpath('//table[@class=\"driving-table\"]//h5/text()')\n",
    "    if not year_price or not brand:\n",
    "        continue\n",
    "    features = tree.xpath('//table[@class=\"list_ads\"]//tr[@class=\"list-row\"]//td/text()')[:-3] # The [:-3] is to remove the last 3 items of the list because those are the additions which we are taking seperately\n",
    "    additions = tree.xpath('//td[@class=\"list-additions\"]//li/text()')\n",
    "    model = brand[0].split(\" \")[1]\n",
    "    brand = brand[0].split(\" \")[0]\n",
    "    year = year_price[0]\n",
    "    year = str(re.findall(r'\\d+',year)[0])\n",
    "    price = year_price[1]\n",
    "    price = str(re.findall(r'\\d+',price)[0])\n",
    "    sample = {\n",
    "        \"سعر\":price,\n",
    "        \"شركة\":brand,\n",
    "        \"موديل\":model,\n",
    "        \"سنة\":year,\n",
    "        \"لون السيارة\":\"null\",\n",
    "        \"نوع الوقود\":\"null\",\n",
    "        \"أصل السيارة\":\"null\",\n",
    "        \"رخصة السيارة\":\"null\",\n",
    "        \"نوع الجير\":\"null\",\n",
    "        \"الزجاج\":\"null\",\n",
    "        \"قوة الماتور\":\"null\",\n",
    "        \"عداد السيارة\":\"null\",\n",
    "        \"عدد الركاب\":\"null\",\n",
    "        \"الدفع\":\"null\",\n",
    "        \"وسيلة الدفع\":\"null\",\n",
    "        \"معروضة\":\"null\",\n",
    "        \"أصحاب سابقون\":\"null\",\n",
    "        \"إضافات\":\"null\"\n",
    "    }\n",
    "    if features:\n",
    "        features.append(\"إضافات\")\n",
    "        if additions:\n",
    "            additions = listToString(additions).replace(\",\",\" \")\n",
    "            features.append(additions)\n",
    "        else:\n",
    "            features.append(\"null\")\n",
    "        for index,key in enumerate(features[::2]):\n",
    "            sample[key] = features[1::2][index].replace(\",\",\"\")\n",
    "    result += sample[\"سعر\"] + \",\" + sample[\"شركة\"] + \",\" + sample[\"موديل\"] + \",\" + sample[\"سنة\"] + \",\" + sample[\"لون السيارة\"] + \",\" + sample[\"نوع الوقود\"] + \",\" + sample[\"أصل السيارة\"] + \",\" + sample[\"رخصة السيارة\"] + \",\" + sample[\"نوع الجير\"] + \",\" + sample[\"الزجاج\"] + \",\" + sample[\"قوة الماتور\"] + \",\" + sample[\"عداد السيارة\"] + \",\" + sample[\"عدد الركاب\"] + \",\" + sample[\"وسيلة الدفع\"] + \",\" + sample[\"معروضة\"] + \",\" + sample[\"أصحاب سابقون\"] + \",\" + sample[\"إضافات\"] + \"\\n\"\n",
    "    file.close()"
   ]
  },
  {
   "cell_type": "markdown",
   "metadata": {},
   "source": [
    "#### Here we write the resulted data to a file in a .CSV format"
   ]
  },
  {
   "cell_type": "code",
   "execution_count": 6,
   "metadata": {},
   "outputs": [],
   "source": [
    "# new_file = open(\"training_data.csv\",\"x\",encoding=\"utf-8\")\n",
    "# for index,header in enumerate(headers):\n",
    "#     if(index != 0):\n",
    "#         new_file.write(\",\")\n",
    "#     new_file.write(header)\n",
    "# new_file.write(\"\\n\")\n",
    "# new_file.writelines(result)\n",
    "# new_file.close()"
   ]
  }
 ],
 "metadata": {
  "kernelspec": {
   "display_name": "Python 3",
   "language": "python",
   "name": "python3"
  },
  "language_info": {
   "codemirror_mode": {
    "name": "ipython",
    "version": 3
   },
   "file_extension": ".py",
   "mimetype": "text/x-python",
   "name": "python",
   "nbconvert_exporter": "python",
   "pygments_lexer": "ipython3",
   "version": "3.12.0"
  }
 },
 "nbformat": 4,
 "nbformat_minor": 2
}
